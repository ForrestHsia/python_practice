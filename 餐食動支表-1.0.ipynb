{
 "cells": [
  {
   "cell_type": "code",
   "execution_count": 1,
   "metadata": {},
   "outputs": [],
   "source": [
    "import calendar, openpyxl, os, shutil, datetime\n",
    "from datetime import date\n",
    "from openpyxl.utils import get_column_letter, column_index_from_string"
   ]
  },
  {
   "cell_type": "code",
   "execution_count": 2,
   "metadata": {},
   "outputs": [],
   "source": [
    "wb = openpyxl.load_workbook(\"味全龍餐食動支紀錄表.xlsx\",data_only=True)\n",
    "sheet1 = wb['工作表1']"
   ]
  },
  {
   "cell_type": "code",
   "execution_count": 3,
   "metadata": {},
   "outputs": [],
   "source": [
    "# 生成的summary sheet不要放在動支表內，越長越大會難以管理與查詢\n",
    "wb_summary = openpyxl.load_workbook(\"9月份餐食summary.xlsx\",data_only=True)\n",
    "summary_sheet = wb_summary['Sheet']"
   ]
  },
  {
   "cell_type": "code",
   "execution_count": 4,
   "metadata": {},
   "outputs": [],
   "source": [
    "breakfast_row = (3,4,5,6)\n",
    "lunch_row = (7,8,9,10)\n",
    "dinner_row = (11,12,13,14)\n",
    "dinsum_row = (15,16,17,18)\n",
    "meal_after_game_row = (19,20,21,22)\n",
    "head_count_row = (3,7,11,15,19)\n",
    "price_column = (2,3)\n",
    "monthly_supplier = ('濟洲館','安好食', '沃田','沃田便當','統美外匯', '天悅便當', '迦南自助餐','滷味香','滷味香便當','濟州館', '蕭家牛肉飯','蕭家牛肉湯餃','蕭家牛肉麵','飯店中餐','勝口味大腸麵線')"
   ]
  },
  {
   "cell_type": "code",
   "execution_count": 5,
   "metadata": {},
   "outputs": [
    {
     "name": "stdout",
     "output_type": "stream",
     "text": [
      "9\n"
     ]
    }
   ],
   "source": [
    "#請輸入欲擷取資料之月份，比方說，要抓8月的資料請輸入8\n",
    "target_month = int(input())"
   ]
  },
  {
   "cell_type": "code",
   "execution_count": 6,
   "metadata": {},
   "outputs": [],
   "source": [
    "#製作餐費summary表頭\n",
    "# 1. column_A的日期輸入清乾淨\n",
    "for i in range(1,calendar.monthrange(2021,target_month)[1]+1):\n",
    "    for j in range(1,17):\n",
    "        if j>=14:\n",
    "            summary_sheet.cell(row = i+1, column=j).value = 0\n",
    "        else:\n",
    "            summary_sheet.cell(row = i+1, column=j).value = None"
   ]
  },
  {
   "cell_type": "code",
   "execution_count": 7,
   "metadata": {},
   "outputs": [],
   "source": [
    "#製作每月日期表頭\n",
    "for i in range(1,calendar.monthrange(2021,target_month)[1]+1):\n",
    "    summary_sheet.cell(row = i+1, column=1).value = datetime.date(2021,target_month,i)"
   ]
  },
  {
   "cell_type": "code",
   "execution_count": 8,
   "metadata": {},
   "outputs": [],
   "source": [
    "breakfast_item = {}\n",
    "for sheet1_column in range(2,sheet1.max_column):\n",
    "    if type(sheet1.cell(row=2,column = sheet1_column).value) == str or sheet1.cell(row=2,column = sheet1_column).value == None:\n",
    "        sheet1_column\n",
    "    else:\n",
    "        eating_date = sheet1.cell(row=2,column = sheet1_column).value.date()\n",
    "        breakfast_item_1 = {}\n",
    "        for breakfast_index in breakfast_row:\n",
    "            if sheet1.cell(row=breakfast_index,column=sheet1_column).value is not None:\n",
    "                for j in price_column:\n",
    "                    if sheet1.cell(row=breakfast_index,column = sheet1_column+j).value is not None:\n",
    "                        breakfast_item_1.setdefault(sheet1.cell(row=breakfast_index,column=sheet1_column).value,sheet1.cell(row=breakfast_index,column=sheet1_column+j).value)\n",
    "                    elif sheet1.cell(row=breakfast_index,column=sheet1_column+j).value is None and sheet1.cell(row=breakfast_index,column=sheet1_column).value is not None:\n",
    "                        j\n",
    "                        breakfast_item.setdefault(eating_date,breakfast_item_1)\n",
    "#暫存，將dict轉換成list用\n",
    "test_keys_list = list(breakfast_item.keys())\n",
    "test_values_list = list(breakfast_item.values())"
   ]
  },
  {
   "cell_type": "code",
   "execution_count": 9,
   "metadata": {},
   "outputs": [],
   "source": [
    "for i in range(2,calendar.monthrange(2021,8)[1]+2):\n",
    "    for j in range(0,len(test_keys_list)):\n",
    "        if summary_sheet.cell(row = i, column=1).value == test_keys_list[j]:\n",
    "            #當日餐點超過2家時，做項目加總輸入\n",
    "            item = str()\n",
    "            price = int()\n",
    "            monthly_price = int()\n",
    "            if len(test_values_list[j])>=2:\n",
    "                for k,v in breakfast_item.get(test_keys_list[j]).items():\n",
    "                    item += '+' + k\n",
    "                    if k in monthly_supplier:\n",
    "                        monthly_price += v\n",
    "                    else:\n",
    "                        price += v\n",
    "                summary_sheet.cell(row = i, column=2).value = item.split('+',1)[1]\n",
    "                summary_sheet.cell(row = i, column=3).value = price + monthly_price\n",
    "                summary_sheet.cell(row = i, column=14).value += price\n",
    "                summary_sheet.cell(row = i, column=15).value += monthly_price\n",
    "                \n",
    "            #餐點只有一家時，做項目輸入\n",
    "            elif len(test_values_list[j]) == 1:\n",
    "                for k,v in breakfast_item.get(test_keys_list[j]).items():\n",
    "                    if k in monthly_supplier:\n",
    "                        monthly_price = v\n",
    "                    else:\n",
    "                        price = v\n",
    "                    summary_sheet.cell(row = i, column=2).value = k\n",
    "                    summary_sheet.cell(row = i, column=3).value = v\n",
    "                    summary_sheet.cell(row = i, column=14).value += price\n",
    "                    summary_sheet.cell(row = i, column=15).value += monthly_price"
   ]
  },
  {
   "cell_type": "code",
   "execution_count": 10,
   "metadata": {},
   "outputs": [],
   "source": [
    "lunch_item = {}\n",
    "for sheet1_column in range(2,sheet1.max_column):\n",
    "    if type(sheet1.cell(row=2,column = sheet1_column).value) == str or sheet1.cell(row=2,column = sheet1_column).value == None:\n",
    "        sheet1_column\n",
    "    else:\n",
    "        eating_date = sheet1.cell(row=2,column = sheet1_column).value.date()\n",
    "        price_column = (2,3)\n",
    "        lunch_item_1 = {}\n",
    "        for lunch_index in lunch_row:\n",
    "            if sheet1.cell(row=lunch_index,column=sheet1_column).value is not None:\n",
    "                for j in price_column:\n",
    "                    if sheet1.cell(row=lunch_index,column = sheet1_column+j).value is not None:\n",
    "                        lunch_item_1.setdefault(sheet1.cell(row=lunch_index,column=sheet1_column).value,sheet1.cell(row=lunch_index,column=sheet1_column+j).value)\n",
    "                    elif sheet1.cell(row=lunch_index,column=sheet1_column+j).value is None and sheet1.cell(row=lunch_index,column=sheet1_column).value is not None:\n",
    "                        j\n",
    "                        lunch_item.setdefault(eating_date,lunch_item_1)\n",
    "test_keys_list = list(lunch_item.keys())\n",
    "test_values_list = list(lunch_item.values())"
   ]
  },
  {
   "cell_type": "code",
   "execution_count": 11,
   "metadata": {},
   "outputs": [],
   "source": [
    "for i in range(2,calendar.monthrange(2021,8)[1]+2):\n",
    "    for j in range(0,len(test_keys_list)):\n",
    "        if summary_sheet.cell(row = i, column=1).value == test_keys_list[j]:\n",
    "            item = str()\n",
    "            price = int()\n",
    "            monthly_price = int()\n",
    "            if len(test_values_list[j])>=2:\n",
    "                for k,v in lunch_item.get(test_keys_list[j]).items():\n",
    "                    item =  item + '+' + k\n",
    "                    if k in monthly_supplier:\n",
    "                        monthly_price += v\n",
    "                    else:\n",
    "                        price += v\n",
    "                summary_sheet.cell(row = i, column=4).value = item.split('+',1)[1]\n",
    "                summary_sheet.cell(row = i, column=5).value = price + monthly_price\n",
    "                summary_sheet.cell(row = i, column=14).value += price\n",
    "                summary_sheet.cell(row = i, column=15).value += monthly_price\n",
    "                \n",
    "            elif len(test_values_list[j]) == 1:\n",
    "                for k,v in lunch_item.get(test_keys_list[j]).items():\n",
    "                    if k in monthly_supplier:\n",
    "                        monthly_price = v\n",
    "                    else:\n",
    "                        price = v\n",
    "                    summary_sheet.cell(row = i, column=4).value = k\n",
    "                    summary_sheet.cell(row = i, column=5).value = v\n",
    "                    summary_sheet.cell(row = i, column=14).value += price\n",
    "                    summary_sheet.cell(row = i, column=15).value += monthly_price"
   ]
  },
  {
   "cell_type": "code",
   "execution_count": 12,
   "metadata": {},
   "outputs": [],
   "source": [
    "dinner_item = {}\n",
    "for sheet1_column in range(2,sheet1.max_column):\n",
    "    if type(sheet1.cell(row=2,column = sheet1_column).value) == str or sheet1.cell(row=2,column = sheet1_column).value == None:\n",
    "        sheet1_column\n",
    "    else:\n",
    "        eating_date = sheet1.cell(row=2,column = sheet1_column).value.date()\n",
    "        price_column = (2,3)\n",
    "        dinner_item_1 = {}\n",
    "        for dinner_index in dinner_row:\n",
    "            if sheet1.cell(row=dinner_index,column=sheet1_column).value is not None:\n",
    "                for j in price_column:\n",
    "                    if sheet1.cell(row=dinner_index,column = sheet1_column+j).value is not None:\n",
    "                        dinner_item_1.setdefault(sheet1.cell(row=dinner_index,column=sheet1_column).value,sheet1.cell(row=dinner_index,column=sheet1_column+j).value)\n",
    "                    elif sheet1.cell(row=dinner_index,column=sheet1_column+j).value is None and sheet1.cell(row=dinner_index,column=sheet1_column).value is not None:\n",
    "                        j\n",
    "                        dinner_item.setdefault(eating_date,dinner_item_1)\n",
    "test_keys_list = list(dinner_item.keys())\n",
    "test_values_list = list(dinner_item.values())"
   ]
  },
  {
   "cell_type": "code",
   "execution_count": 13,
   "metadata": {},
   "outputs": [],
   "source": [
    "for i in range(2,calendar.monthrange(2021,8)[1]+2):\n",
    "    for j in range(0,len(test_keys_list)):\n",
    "        if summary_sheet.cell(row = i, column=1).value == test_keys_list[j]:\n",
    "            item = str()\n",
    "            price = int()\n",
    "            monthly_price = int()\n",
    "            if len(test_values_list[j])>=2:\n",
    "                for k,v in dinner_item.get(test_keys_list[j]).items():\n",
    "                    item =  item + '+' + k\n",
    "                    if k in monthly_supplier:\n",
    "                        monthly_price += v\n",
    "                    else:\n",
    "                        price += v\n",
    "                summary_sheet.cell(row = i, column=6).value = item.split('+',1)[1]\n",
    "                summary_sheet.cell(row = i, column=7).value = price + monthly_price\n",
    "                summary_sheet.cell(row = i, column=14).value += price\n",
    "                summary_sheet.cell(row = i, column=15).value += monthly_price\n",
    "                \n",
    "            elif len(test_values_list[j]) == 1:\n",
    "                for k,v in dinner_item.get(test_keys_list[j]).items():\n",
    "                    if k in monthly_supplier:\n",
    "                        monthly_price = v\n",
    "                    else:\n",
    "                        price = v\n",
    "                    summary_sheet.cell(row = i, column=6).value = k\n",
    "                    summary_sheet.cell(row = i, column=7).value = v\n",
    "                    summary_sheet.cell(row = i, column=14).value += price\n",
    "                    summary_sheet.cell(row = i, column=15).value += monthly_price"
   ]
  },
  {
   "cell_type": "code",
   "execution_count": 14,
   "metadata": {},
   "outputs": [],
   "source": [
    "dinsum_item = {}\n",
    "for sheet1_column in range(2,sheet1.max_column):\n",
    "    if type(sheet1.cell(row=2,column = sheet1_column).value) == str or sheet1.cell(row=2,column = sheet1_column).value == None:\n",
    "        sheet1_column\n",
    "    else:\n",
    "        eating_date = sheet1.cell(row=2,column = sheet1_column).value.date()\n",
    "        price_column = (2,3)\n",
    "        dinsum_item_1 = {}\n",
    "        for dinsum_index in dinsum_row:\n",
    "            if sheet1.cell(row=dinsum_index,column=sheet1_column).value is not None:\n",
    "                for j in price_column:\n",
    "                    if sheet1.cell(row=dinsum_index,column = sheet1_column+j).value is not None:\n",
    "                        dinsum_item_1.setdefault(sheet1.cell(row=dinsum_index,column=sheet1_column).value,sheet1.cell(row=dinsum_index,column=sheet1_column+j).value)\n",
    "                    elif sheet1.cell(row=dinsum_index,column=sheet1_column+j).value is None and sheet1.cell(row=dinsum_index,column=sheet1_column).value is not None:\n",
    "                        j\n",
    "                        dinsum_item.setdefault(eating_date,dinsum_item_1)\n",
    "test_keys_list = list(dinsum_item.keys())\n",
    "test_values_list = list(dinsum_item.values())"
   ]
  },
  {
   "cell_type": "code",
   "execution_count": 15,
   "metadata": {},
   "outputs": [],
   "source": [
    "for i in range(2,calendar.monthrange(2021,8)[1]+2):\n",
    "    for j in range(0,len(test_keys_list)):\n",
    "        if summary_sheet.cell(row = i, column=1).value == test_keys_list[j]:\n",
    "            item = str()\n",
    "            price = int()\n",
    "            monthly_price = int()\n",
    "            if len(test_values_list[j])>=2:\n",
    "                for k,v in dinsum_item.get(test_keys_list[j]).items():\n",
    "                    item =  item + '+'+ k\n",
    "                    if k in monthly_supplier:\n",
    "                        monthly_price += v\n",
    "                    else:\n",
    "                        price += v\n",
    "                summary_sheet.cell(row = i, column=8).value = item.split('+',1)[1]\n",
    "                summary_sheet.cell(row = i, column=9).value = price + monthly_price\n",
    "                summary_sheet.cell(row = i, column=14).value += price\n",
    "                summary_sheet.cell(row = i, column=15).value += monthly_price\n",
    "                \n",
    "            elif len(test_values_list[j]) == 1:\n",
    "                for k,v in dinsum_item.get(test_keys_list[j]).items():\n",
    "                    if k in monthly_supplier:\n",
    "                        monthly_price = v\n",
    "                    else:\n",
    "                        price = v\n",
    "                    summary_sheet.cell(row = i, column=8).value = k\n",
    "                    summary_sheet.cell(row = i, column=9).value = v\n",
    "                    summary_sheet.cell(row = i, column=14).value += price\n",
    "                    summary_sheet.cell(row = i, column=15).value += monthly_price"
   ]
  },
  {
   "cell_type": "code",
   "execution_count": 16,
   "metadata": {},
   "outputs": [],
   "source": [
    "meal_after_game_item = {}\n",
    "for sheet1_column in range(2,sheet1.max_column):\n",
    "    if type(sheet1.cell(row=2,column = sheet1_column).value) == str or sheet1.cell(row=2,column = sheet1_column).value == None:\n",
    "        sheet1_column\n",
    "    else:\n",
    "        eating_date = sheet1.cell(row=2,column = sheet1_column).value.date()\n",
    "        price_column = (2,3)\n",
    "        meal_after_game_item_1 = {}\n",
    "        for meal_after_game_index in meal_after_game_row:\n",
    "            if sheet1.cell(row=meal_after_game_index,column=sheet1_column).value is not None:\n",
    "                for j in price_column:\n",
    "                    if sheet1.cell(row=meal_after_game_index,column = sheet1_column+j).value is not None:\n",
    "                        meal_after_game_item_1.setdefault(sheet1.cell(row=meal_after_game_index,column=sheet1_column).value,sheet1.cell(row=meal_after_game_index,column=sheet1_column+j).value)\n",
    "                    elif sheet1.cell(row=meal_after_game_index,column=sheet1_column+j).value is None and sheet1.cell(row=meal_after_game_index,column=sheet1_column).value is not None:\n",
    "                        j\n",
    "                        meal_after_game_item.setdefault(eating_date,meal_after_game_item_1)\n",
    "test_keys_list = list(meal_after_game_item.keys())\n",
    "test_values_list = list(meal_after_game_item.values())"
   ]
  },
  {
   "cell_type": "code",
   "execution_count": 17,
   "metadata": {},
   "outputs": [],
   "source": [
    "for i in range(2,calendar.monthrange(2021,8)[1]+2):\n",
    "    for j in range(0,len(test_keys_list)):\n",
    "        if summary_sheet.cell(row = i, column=1).value == test_keys_list[j]:\n",
    "            item = str()\n",
    "            price = int()\n",
    "            monthly_price = int()\n",
    "            if len(test_values_list[j])>=2:\n",
    "                for k,v in meal_after_game_item.get(test_keys_list[j]).items():\n",
    "                    item =  item + '+'+ k\n",
    "                    if k in monthly_supplier:\n",
    "                        monthly_price += v\n",
    "                    else:\n",
    "                        price += v\n",
    "                summary_sheet.cell(row = i, column=10).value = item.split('+',1)[1]\n",
    "                summary_sheet.cell(row = i, column=11).value = price + monthly_price\n",
    "                summary_sheet.cell(row = i, column=14).value += price\n",
    "                summary_sheet.cell(row = i, column=15).value += monthly_price\n",
    "                \n",
    "            elif len(test_values_list[j]) == 1:\n",
    "                for k,v in meal_after_game_item.get(test_keys_list[j]).items():\n",
    "                    if k in monthly_supplier:\n",
    "                        monthly_price += v\n",
    "                    else:\n",
    "                        price = v\n",
    "                    summary_sheet.cell(row = i, column=10).value = k\n",
    "                    summary_sheet.cell(row = i, column=11).value = v\n",
    "                    summary_sheet.cell(row = i, column=14).value += price\n",
    "                    summary_sheet.cell(row = i, column=15).value += monthly_price"
   ]
  },
  {
   "cell_type": "code",
   "execution_count": 20,
   "metadata": {},
   "outputs": [],
   "source": [
    "for i in range(1,calendar.monthrange(2021,8)[1]+1):\n",
    "    summary_sheet.cell(row = i+1, column=16).value = summary_sheet.cell(row = i+1, column=14).value + summary_sheet.cell(row = i+1, column=15).value"
   ]
  },
  {
   "cell_type": "code",
   "execution_count": 19,
   "metadata": {},
   "outputs": [],
   "source": [
    "wb_summary.save(\"9月份餐食summary.xlsx\")"
   ]
  },
  {
   "cell_type": "code",
   "execution_count": null,
   "metadata": {},
   "outputs": [],
   "source": [
    "summary_sheet.max_row"
   ]
  },
  {
   "cell_type": "code",
   "execution_count": null,
   "metadata": {},
   "outputs": [],
   "source": []
  }
 ],
 "metadata": {
  "kernelspec": {
   "display_name": "Python 3",
   "language": "python",
   "name": "python3"
  },
  "language_info": {
   "codemirror_mode": {
    "name": "ipython",
    "version": 3
   },
   "file_extension": ".py",
   "mimetype": "text/x-python",
   "name": "python",
   "nbconvert_exporter": "python",
   "pygments_lexer": "ipython3",
   "version": "3.8.5"
  }
 },
 "nbformat": 4,
 "nbformat_minor": 4
}
