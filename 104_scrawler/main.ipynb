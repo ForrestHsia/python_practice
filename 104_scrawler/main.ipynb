{
 "cells": [
  {
   "cell_type": "code",
   "execution_count": 65,
   "source": [
    "import requests, re, json"
   ],
   "outputs": [],
   "metadata": {}
  },
  {
   "cell_type": "code",
   "execution_count": 80,
   "source": [
    "headers = {'User-Agent':'Mozilla/5.0 (Windows NT 10.0; Win64; x64) AppleWebKit/537.36 (KHTML, like Gecko) Chrome/94.0.4606.61 Safari/537.36 Edg/94.0.992.31'}"
   ],
   "outputs": [],
   "metadata": {}
  },
  {
   "cell_type": "code",
   "execution_count": 66,
   "source": [
    "url_city = \"https://www.1111.com.tw/includesU/tcodeMenu/data/tCodeCity.js\"\r\n",
    "result_city = requests.get(url_city, headers=headers)\r\n",
    "city1 = result_city.text"
   ],
   "outputs": [],
   "metadata": {}
  },
  {
   "cell_type": "code",
   "execution_count": 72,
   "source": [
    "regex = r\"\\{.*\\}\"\r\n",
    "matches = re.findall(regex, city1)\r\n",
    "test1 = json.loads(matches[1])\r\n",
    "city=test1['arr']"
   ],
   "outputs": [],
   "metadata": {}
  },
  {
   "cell_type": "code",
   "execution_count": 84,
   "source": [
    "url_job_category = \"https://www.1111.com.tw/includesU/tcodeMenu/data/tCodeDutyNM.js\"\r\n",
    "result_job_category = requests.get(url_job_category, headers=headers)\r\n",
    "job_category1 = result_job_category.text"
   ],
   "outputs": [],
   "metadata": {}
  },
  {
   "cell_type": "code",
   "execution_count": 85,
   "source": [
    "regex = r\"\\{.*\\}\"\r\n",
    "matches = re.findall(regex, job_category1)\r\n",
    "test1 = json.loads(matches[1])\r\n",
    "job_category=test1['arr']"
   ],
   "outputs": [],
   "metadata": {}
  },
  {
   "cell_type": "code",
   "execution_count": 91,
   "source": [
    "job_category2[33]"
   ],
   "outputs": [
    {
     "output_type": "execute_result",
     "data": {
      "text/plain": [
       "{'p': 110100,\n",
       " 'g': '',\n",
       " 'v': '銀行辦事人員',\n",
       " 'v1': '金融保險',\n",
       " 'k': 110106,\n",
       " 'ct': 3,\n",
       " 'cd': '在銀行內從事替客戶開戶、存款、放款、匯兌、推廣金融商品等服務',\n",
       " 'ca': '銀行業櫃員<br>銀行行員<br>銀行事務員<br>金融市場營運管理人員<br>理財專員<br>銀行辦事員<br>櫃檯經辦人員',\n",
       " 'cn': '銀行櫃員',\n",
       " 'cl': '<br>銀行外匯管理員 <br>外匯交易業務經理'}"
      ]
     },
     "metadata": {},
     "execution_count": 91
    }
   ],
   "metadata": {}
  },
  {
   "cell_type": "code",
   "execution_count": null,
   "source": [],
   "outputs": [],
   "metadata": {}
  }
 ],
 "metadata": {
  "orig_nbformat": 4,
  "language_info": {
   "name": "python",
   "version": "3.8.5",
   "mimetype": "text/x-python",
   "codemirror_mode": {
    "name": "ipython",
    "version": 3
   },
   "pygments_lexer": "ipython3",
   "nbconvert_exporter": "python",
   "file_extension": ".py"
  },
  "kernelspec": {
   "name": "python3",
   "display_name": "Python 3.8.5 64-bit ('base': conda)"
  },
  "interpreter": {
   "hash": "ac57d61b32843d2c66fcc1029d14d64ea4f6e1d970a7a77713dbe67b9ed145c8"
  }
 },
 "nbformat": 4,
 "nbformat_minor": 2
}