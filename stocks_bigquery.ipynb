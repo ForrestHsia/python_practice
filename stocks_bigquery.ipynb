{
 "cells": [
  {
   "cell_type": "code",
   "execution_count": 82,
   "source": [
    "from datetime import datetime\r\n",
    "from google.cloud import bigquery\r\n",
    "from google.oauth2 import service_account\r\n",
    "import requests, sqlite3, os, pandas, pipre"
   ],
   "outputs": [],
   "metadata": {}
  },
  {
   "cell_type": "code",
   "execution_count": 83,
   "source": [
    "#以下為local端寫法\r\n",
    "# url_today = datetime.now().strftime('%Y%m%d')\r\n",
    "# twse_today = f\"{datetime.now().year-1911}/{datetime.now().strftime('%m/%d')}\"\r\n",
    "# conn = sqlite3.connect('Stocks.db')\r\n",
    "# cursor = conn.cursor()\r\n",
    "# cursor.execute(\"SELECT StockNo FROM StocksNumbers\")\r\n",
    "# combined = []\r\n",
    "# for stock_no in cursor.fetchall():\r\n",
    "#     url = (f'https://www.twse.com.tw/exchangeReport/STOCK_DAY?response=json&date={url_today}&stockNo={stock_no[0]}')\r\n",
    "#     result = requests.get(url)\r\n",
    "#     result_data = result.json()['data']\r\n",
    "#     insert_data = [data for index,data in enumerate(result_data) if twse_today in result_data[index]]\r\n",
    "#     if insert_data:\r\n",
    "#         insert_data[0].insert(0,stock_no[0])\r\n",
    "#         combined.append(insert_data[0])\r\n",
    "\r\n",
    "# #使用os讀取credentials\r\n",
    "# # credentials_path = '.\\\\stocks-bigquery-forresttest-5b337d75564b.json'\r\n",
    "# # os.environ['GOOGLE_APPLICATION_CREDENTIALS'] = credentials_path\r\n",
    "# # client = bigquery.Client()\r\n",
    "\r\n",
    "\r\n",
    "# #使用google service_account來讀取credentials\r\n",
    "# credentials = service_account.Credentials.from_service_account_file('stocks-bigquery-forresttest-5b337d75564b.json')\r\n",
    "# client = bigquery.Client(credentials=credentials)\r\n",
    "\r\n",
    "# table_id = \"stocks-bigquery-forresttest.stocks.daily_price\"\r\n",
    "# # job是執行的物件，result是執行method\r\n",
    "# # job = client.load_table_from_dataframe(df,table_id)\r\n",
    "# # job.result()\r\n",
    "# table = client.get_table(table_id)\r\n",
    "# print(f'已存入{table.num_rows}筆資料到{table_id}')\r\n"
   ],
   "outputs": [],
   "metadata": {}
  },
  {
   "cell_type": "code",
   "execution_count": 1,
   "source": [
    "# #以下為雲端佈署寫法\r\n",
    "# url_today = datetime.now().strftime('%Y%m%d')\r\n",
    "# twse_today = f\"{datetime.now().year-1911}/{datetime.now().strftime('%m/%d')}\"\r\n",
    "# stocks = ['2330', '0050', '2409']\r\n",
    "\r\n",
    "# combined = []\r\n",
    "# for stock_no in stocks:\r\n",
    "#     response = requests.get(f'https://www.twse.com.tw/exchangeReport/STOCK_DAY?response=json&date={url_today}&stockNo={stock_no}')\r\n",
    "#     response_data = response.json()['data']\r\n",
    " \r\n",
    "#     result = [data for index, data in enumerate(response_data) if twse_today in response_data[index]]\r\n",
    " \r\n",
    "#     if result:\r\n",
    "#         result[0].insert(0, stock_no)\r\n",
    "#         combined.append(result[0])\r\n",
    "# df = pandas.DataFrame(combined,columns=['stock_no', 'traded_date', 'traded_shares', 'traded_price','opening_price', 'high_price', 'low_price', 'closing_price', 'gross_spread', 'trading_volume'])\r\n",
    "\r\n",
    "# #使用google service_account來讀取credentials\r\n",
    "# credentials = service_account.Credentials.from_service_account_file('stocks-bigquery-forresttest-5b337d75564b.json')\r\n",
    "# client = bigquery.Client(credentials=credentials)\r\n",
    "\r\n",
    "# table_id = \"stocks-bigquery-forresttest.stocks.daily_price\"\r\n",
    "# # job是執行的物件，result是執行method\r\n",
    "# job = client.load_table_from_dataframe(df,table_id)\r\n",
    "# job.result()\r\n",
    "# table = client.get_table(table_id)\r\n",
    "# print(f'已存入{table.num_rows}筆資料到{table_id}')"
   ],
   "outputs": [],
   "metadata": {}
  },
  {
   "cell_type": "code",
   "execution_count": 9,
   "source": [
    "pip freeze > requirement.txt"
   ],
   "outputs": [
    {
     "output_type": "stream",
     "name": "stdout",
     "text": [
      "Note: you may need to restart the kernel to use updated packages.\n"
     ]
    }
   ],
   "metadata": {}
  },
  {
   "cell_type": "code",
   "execution_count": null,
   "source": [],
   "outputs": [],
   "metadata": {}
  }
 ],
 "metadata": {
  "orig_nbformat": 4,
  "language_info": {
   "name": "python",
   "version": "3.8.5",
   "mimetype": "text/x-python",
   "codemirror_mode": {
    "name": "ipython",
    "version": 3
   },
   "pygments_lexer": "ipython3",
   "nbconvert_exporter": "python",
   "file_extension": ".py"
  },
  "kernelspec": {
   "name": "python3",
   "display_name": "Python 3.8.5 64-bit ('base': conda)"
  },
  "interpreter": {
   "hash": "ac57d61b32843d2c66fcc1029d14d64ea4f6e1d970a7a77713dbe67b9ed145c8"
  }
 },
 "nbformat": 4,
 "nbformat_minor": 2
}